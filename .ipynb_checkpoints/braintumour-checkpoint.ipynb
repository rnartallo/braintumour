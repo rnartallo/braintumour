{
 "cells": [
  {
   "attachments": {},
   "cell_type": "markdown",
   "metadata": {},
   "source": [
    "### Detecting brain tumours from MRI images using deep learning"
   ]
  },
  {
   "cell_type": "code",
   "execution_count": null,
   "metadata": {},
   "outputs": [],
   "source": [
    "import pandas as pd\n",
    "import numpy as np\n",
    "from sklearn.model_selection import train_test_split\n",
    "from sklearn.preprocessing import StandardScaler"
   ]
  },
  {
   "cell_type": "code",
   "execution_count": 4,
   "metadata": {},
   "outputs": [
    {
     "ename": "ModuleNotFoundError",
     "evalue": "No module named 'tensorflow'",
     "output_type": "error",
     "traceback": [
      "\u001b[0;31m---------------------------------------------------------------------------\u001b[0m",
      "\u001b[0;31mModuleNotFoundError\u001b[0m                       Traceback (most recent call last)",
      "\u001b[0;32m/var/folders/j3/3jf2wkbj5756yfdv4zjq5j300000gn/T/ipykernel_61641/4294963926.py\u001b[0m in \u001b[0;36m<module>\u001b[0;34m\u001b[0m\n\u001b[0;32m----> 1\u001b[0;31m \u001b[0;32mimport\u001b[0m \u001b[0mtensorflow\u001b[0m\u001b[0;34m\u001b[0m\u001b[0;34m\u001b[0m\u001b[0m\n\u001b[0m",
      "\u001b[0;31mModuleNotFoundError\u001b[0m: No module named 'tensorflow'"
     ]
    }
   ],
   "source": [
    "import tensorflow"
   ]
  },
  {
   "cell_type": "code",
   "execution_count": 24,
   "metadata": {},
   "outputs": [],
   "source": [
    "data = pd.read_csv('Brain Tumor.csv')\n",
    "data = data.drop('Image',axis=1)\n",
    "X = data.drop('Class',axis=1)\n",
    "Y = data['Class']\n",
    "X_train, X_test, Y_train, Y_test = train_test_split(X, Y, test_size=0.2, random_state=18)"
   ]
  },
  {
   "cell_type": "code",
   "execution_count": 25,
   "metadata": {},
   "outputs": [],
   "source": [
    "scaler = StandardScaler()\n",
    "X_train_scaled = scaler.fit_transform(X_train)\n",
    "X_test_scaled = scaler.transform(X_test)"
   ]
  },
  {
   "cell_type": "code",
   "execution_count": 26,
   "metadata": {},
   "outputs": [
    {
     "data": {
      "text/plain": [
       "array([[-2.18829868e-001,  8.14822411e-002,  2.48464863e-001, ...,\n",
       "         1.05589502e-001, -8.01238752e-001,  1.97902076e-168],\n",
       "       [ 1.05860344e+000,  1.04733361e+000,  1.07905591e+000, ...,\n",
       "         4.97755852e-001,  2.53687955e-001, -1.12613734e-168],\n",
       "       [ 1.56460571e+000,  1.00889850e+000,  1.04935019e+000, ...,\n",
       "        -6.35722593e-001,  2.00666132e-001,  5.17526350e-168],\n",
       "       ...,\n",
       "       [-1.33841058e+000, -1.11367929e+000, -1.29455917e+000, ...,\n",
       "         1.30399472e-001, -1.26476797e-002, -1.12613734e-168],\n",
       "       [-7.31609873e-001, -8.06016624e-001, -7.86269361e-001, ...,\n",
       "        -9.84071672e-001,  7.92429910e-001, -1.12613734e-168],\n",
       "       [ 1.01879393e+000, -1.07163283e-001,  5.90600475e-002, ...,\n",
       "        -7.12350118e-001, -2.16535833e-002,  3.47777707e-168]])"
      ]
     },
     "execution_count": 26,
     "metadata": {},
     "output_type": "execute_result"
    }
   ],
   "source": []
  },
  {
   "cell_type": "code",
   "execution_count": null,
   "metadata": {},
   "outputs": [],
   "source": []
  }
 ],
 "metadata": {
  "kernelspec": {
   "display_name": "Python 3",
   "language": "python",
   "name": "python3"
  },
  "language_info": {
   "codemirror_mode": {
    "name": "ipython",
    "version": 3
   },
   "file_extension": ".py",
   "mimetype": "text/x-python",
   "name": "python",
   "nbconvert_exporter": "python",
   "pygments_lexer": "ipython3",
   "version": "3.11.0"
  },
  "orig_nbformat": 4,
  "vscode": {
   "interpreter": {
    "hash": "aee8b7b246df8f9039afb4144a1f6fd8d2ca17a180786b69acc140d282b71a49"
   }
  }
 },
 "nbformat": 4,
 "nbformat_minor": 2
}
